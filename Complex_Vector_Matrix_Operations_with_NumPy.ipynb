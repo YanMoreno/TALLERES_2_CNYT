{
 "cells": [
  {
   "cell_type": "markdown",
   "id": "a07bd584",
   "metadata": {},
   "source": [
    "# Theory of Complex Vector Spaces\n",
    "Complex vector spaces extend the idea of real vector spaces by allowing vectors to have complex numbers as their components. In these spaces, vectors can be added together and multiplied by complex scalars to produce new vectors. Key operations in complex vector spaces include vector addition, scalar multiplication, vector negation, and complex conjugation."
   ]
  },
  {
   "cell_type": "markdown",
   "id": "f43fc972-23ab-4d81-aa26-c51325dac8f3",
   "metadata": {},
   "source": [
    "# Creating complex column vectors"
   ]
  },
  {
   "cell_type": "code",
   "execution_count": null,
   "id": "029f08ba-1cdc-4928-9631-f62c51ab7aa5",
   "metadata": {},
   "outputs": [],
   "source": [
    "import numpy as np\n",
    "\n",
    "# Define a 2x2 square matrix\n",
    "matrix = np.array([[2, 3],\n",
    "                   [1, 4]])\n",
    "\n",
    "# Define a vector of size 2\n",
    "vector = np.array([5, 6])\n",
    "\n",
    "# Multiply the matrix by the vector\n",
    "result = np.dot(matrix, vector)\n",
    "\n",
    "# Display the result\n",
    "print(\"Matrix:\\n\", matrix)\n",
    "print(\"\\nVector:\\n\", vector)\n",
    "print(\"\\nResult of multiplication:\\n\", result)\n"
   ]
  },
  {
   "cell_type": "markdown",
   "id": "975c2284",
   "metadata": {},
   "source": [
    "## Manipulating Complex Column Vectors using NumPy\n",
    "Here we demonstrate how to manipulate complex column vectors using NumPy, including operations like sum, negation, multiplication by a scalar, transpose, adjunct, and conjugate."
   ]
  },
  {
   "cell_type": "code",
   "execution_count": null,
   "id": "e8058abe",
   "metadata": {},
   "outputs": [],
   "source": [
    "\n",
    "import numpy as np\n",
    "\n",
    "# Define two complex column vectors\n",
    "v1 = np.array([[2+3j], [5-4j], [1+1j]])\n",
    "v2 = np.array([[1-1j], [3+2j], [4-4j]])\n",
    "\n",
    "# Sum\n",
    "sum_v = v1 + v2\n",
    "\n",
    "# Negation\n",
    "neg_v1 = -v1\n",
    "\n",
    "# Multiplication by a scalar\n",
    "scalar = 2 + 1j\n",
    "mult_v1 = v1 * scalar\n",
    "\n",
    "# Transpose\n",
    "transpose_v1 = v1.T\n",
    "\n",
    "# Adjunct (Conjugate transpose)\n",
    "adjunct_v1 = v1.T.conj()\n",
    "\n",
    "# Conjugate\n",
    "conjugate_v1 = np.conjugate(v1)\n",
    "\n",
    "(sum_v, neg_v1, mult_v1, transpose_v1, adjunct_v1, conjugate_v1)\n"
   ]
  },
  {
   "cell_type": "markdown",
   "id": "995ae5fc",
   "metadata": {},
   "source": [
    "# Theory of Vector Spaces using Matrices\n",
    "In the context of matrices, vector spaces can be defined where each vector is a matrix of a particular size. Operations on these matrix-vector spaces include matrix addition, scalar multiplication, matrix negation, transpose, adjunct, and conjugate. In this section, we focus on square matrices of size 3x3."
   ]
  },
  {
   "cell_type": "markdown",
   "id": "9385c1f0",
   "metadata": {},
   "source": [
    "## Manipulating Square Matrices using NumPy\n",
    "Examples of how to manipulate 3x3 square matrices using NumPy, showing operations such as sum, negation, multiplication by a scalar, conjugate, transpose, and adjunct."
   ]
  },
  {
   "cell_type": "code",
   "execution_count": null,
   "id": "b81ecc57",
   "metadata": {},
   "outputs": [],
   "source": [
    "\n",
    "# Define two 3x3 complex matrices\n",
    "m1 = np.array([[2+3j, 4-1j, 0], \n",
    "               [1+1j, 3+3j, 5], \n",
    "               [4, 6-2j, 1-1j]])\n",
    "m2 = np.array([[1, 2+1j, 3-3j], \n",
    "               [0, -1+2j, 1-2j], \n",
    "               [3+3j, 2, 4+4j]])\n",
    "\n",
    "# Sum\n",
    "sum_m = m1 + m2\n",
    "\n",
    "# Negation\n",
    "neg_m1 = -m1\n",
    "\n",
    "# Multiplication by a scalar\n",
    "scalar = 0.5 + 0.5j\n",
    "mult_m1 = m1 * scalar\n",
    "\n",
    "# Conjugate\n",
    "conjugate_m1 = np.conjugate(m1)\n",
    "\n",
    "# Transpose\n",
    "transpose_m1 = m1.T\n",
    "\n",
    "# Adjunct (Conjugate transpose)\n",
    "adjunct_m1 = m1.T.conj()\n",
    "\n",
    "(sum_m, neg_m1, mult_m1, conjugate_m1, transpose_m1, adjunct_m1)\n"
   ]
  },
  {
   "cell_type": "markdown",
   "id": "ed909545-8a5c-4cca-85f7-48688b597598",
   "metadata": {},
   "source": [
    "## Checking the Dimension of a Matrix\n",
    "We can check the dimension of a matrix using the `.shape` attribute."
   ]
  },
  {
   "cell_type": "code",
   "execution_count": null,
   "id": "0930dc10-af6d-427f-bbcb-75bfaf051db5",
   "metadata": {},
   "outputs": [],
   "source": [
    "# Checking the dimension of matrix1\n",
    "m1.shape"
   ]
  },
  {
   "cell_type": "markdown",
   "id": "b3fe896b",
   "metadata": {},
   "source": [
    "## Action of a Matrix on a Vector\n",
    "Finally, examples of how to use Python to multiply a 3x3 square matrix by a 3x1 column vector."
   ]
  },
  {
   "cell_type": "code",
   "execution_count": null,
   "id": "e514d047",
   "metadata": {},
   "outputs": [],
   "source": [
    "\n",
    "# Multiplying a 3x3 matrix by a 3x1 vector\n",
    "result = np.dot(m1, v1)\n",
    "result\n"
   ]
  },
  {
   "cell_type": "markdown",
   "id": "5adf9d8a-af43-4074-ab1a-3cabdc4accff",
   "metadata": {},
   "source": [
    "# Exercises on Complex Vectors and Matrices with Concrete Cases\n",
    "\n",
    "This set of exercises focuses on operations with complex column vectors and complex square matrices, including concrete cases with vectors and matrices written in LaTeX format.\n",
    "\n",
    "## Complex Column Vector Operations\n",
    "\n",
    "### Exercise 1: Sum of Two Complex Vectors\n",
    "Given two complex vectors \n",
    "$$ v1 = \\begin{bmatrix} 1 + 2i \\\\ 3 - i \\end{bmatrix} $$ \n",
    "and \n",
    "$$ v2 = \\begin{bmatrix} 2 - i \\\\ 4 + 2i \\end{bmatrix} $$, \n",
    "find their sum.\n",
    "\n",
    "### Exercise 2: Negation of a Complex Vector\n",
    "Given a complex vector \n",
    "$$ v = \\begin{bmatrix} 2 + 3i \\\\ 1 - 2i \\end{bmatrix} $$, \n",
    "find its negation.\n",
    "\n",
    "### Exercise 3: Multiplication of a Complex Vector by a Scalar\n",
    "Multiply the complex vector \n",
    "$$ v = \\begin{bmatrix} 1 - i \\\\ 2 + 2i \\end{bmatrix} $$ \n",
    "by the complex scalar $$ 3 + i $$.\n",
    "\n",
    "### Exercise 4: Transpose of a Complex Vector\n",
    "Find the transpose of the complex vector \n",
    "$$ v = \\begin{bmatrix} 2 - i \\\\ 3 + 4i \\end{bmatrix} $$.\n",
    "\n",
    "### Exercise 5: Conjugate of a Complex Vector\n",
    "Compute the conjugate of the complex vector \n",
    "$$ v = \\begin{bmatrix} 1 + i \\\\ 2 - 3i \\end{bmatrix} $$.\n",
    "\n",
    "### Exercise 6: Adjunct (Conjugate Transpose) of a Complex Vector\n",
    "Find the adjunct (or conjugate transpose) of the complex vector \n",
    "$$ v = \\begin{bmatrix} 1 - 2i \\\\ 3 + i \\end{bmatrix} $$.\n",
    "\n",
    "## Complex Square Matrix Operations\n",
    "\n",
    "### Exercise 7: Sum of Two Complex Matrices\n",
    "Given two complex matrices \n",
    "$$ m1 = \\begin{bmatrix} 1 + i & 2 - i \\\\ 3 + 2i & 4 \\end{bmatrix} $$ \n",
    "and \n",
    "$$ m2 = \\begin{bmatrix} 2 - 3i & 1 \\\\ i & 2 + 2i \\end{bmatrix} $$, \n",
    "calculate their sum.\n",
    "\n",
    "### Exercise 8: Negation of a Complex Matrix\n",
    "Find the negation of the complex matrix \n",
    "$$ m = \\begin{bmatrix} 2 + i & 3 \\\\ 1 - i & 2 + 2i \\end{bmatrix} $$.\n",
    "\n",
    "### Exercise 9: Multiplication of a Complex Matrix by a Scalar\n",
    "Multiply the complex matrix \n",
    "$$ m = \\begin{bmatrix} 1 - i & 2 \\\\ 3 + i & 4 - 2i \\end{bmatrix} $$ \n",
    "by the complex scalar $$ 2 + 3i $$.\n",
    "\n",
    "### Exercise 10: Conjugate of a Complex Matrix\n",
    "Compute the conjugate of the complex matrix \n",
    "$$ m = \\begin{bmatrix} 1 + i & 2 \\\\ 3 - i & 4 + 2i \\end{bmatrix} $$.\n",
    "\n",
    "### Exercise 11: Transpose of a Complex Matrix\n",
    "Find the transpose of the complex matrix \n",
    "$$ m = \\begin{bmatrix} 1 - i & 2 + 2i \\\\ 3 & 4 - i \\end{bmatrix} $$.\n",
    "\n",
    "### Exercise 12: Adjunct (Conjugate Transpose) of a Complex Matrix\n",
    "Calculate the adjunct (or conjugate transpose) of the complex matrix \n",
    "$$ m = \\begin{bmatrix} 1 + 2i & 3 - i \\\\ 4 & 5 + i \\end{bmatrix} $$.\n",
    "\n",
    "### Exercise 13: Checking the Dimensions of a Matrix\n",
    "Determine the dimensions of the complex matrix \n",
    "$$ m = \\begin{bmatrix} 1 - i & 2 \\\\ 3 + 2i & 4 - i \\end{bmatrix} $$.\n",
    "\n",
    "## Multiplication of Matrices and Vectors\n",
    "\n",
    "### Exercise 14: Multiplying a Complex Square Matrix by a Complex Column Vector\n",
    "Multiply the complex square matrix \n",
    "$$ m = \\begin{bmatrix} 1 + i & 2 - i \\\\ 3 & 4 + i \\end{bmatrix} $$ \n",
    "by the complex column vector \n",
    "$$ v = \\begin{bmatrix} 2 - i \\\\ 1 + 3i \\end{bmatrix} $$.\n",
    "\n",
    "## Instructions\n",
    "For each exercise, ensure to display both the input (vectors/matrices) and the result of the operation.Use NumPy for these exercises to practice handling complex numbers and matrix operations in Python.\n"
   ]
  },
  {
   "cell_type": "code",
   "execution_count": null,
   "id": "12949876-03e8-4f25-b566-517ed35ac1e1",
   "metadata": {},
   "outputs": [],
   "source": [
    "# Ejercicio 1: Suma de dos vectores complejos\n",
    "print(\"Hacer la suma de dos vectores\")\n",
    "v1 = np.array([[1+2j], [3-1j]])\n",
    "v2 = np.array([[2-1j], [4+2j]])\n",
    "print(\"El vector uno es: \")\n",
    "print(v1)\n",
    "print(\"El vector dos es: \")\n",
    "print(v2)\n",
    "sum_v = v1 + v2\n",
    "print(\"La suma de los vectores da:\")\n",
    "print(sum_v)"
   ]
  },
  {
   "cell_type": "code",
   "execution_count": null,
   "id": "933a7984-9a3c-4777-ae23-c08d7e64c00b",
   "metadata": {},
   "outputs": [],
   "source": [
    "# Ejercicio 2: Negación de un vector complejo\n",
    "print(\"\\nHacer la negación de un vector\")\n",
    "v = np.array([[2+3j], [2+2j]])\n",
    "print(\"El vector es: \")\n",
    "print(v)\n",
    "neg_v = -v\n",
    "print(\"La negación del vector da:\")\n",
    "print(neg_v)\n"
   ]
  },
  {
   "cell_type": "code",
   "execution_count": null,
   "id": "40d1407f-9ea8-4582-ae7f-305bfc0be8ae",
   "metadata": {},
   "outputs": [],
   "source": [
    "# Ejercicio 3: Multiplicación de un vector complejo por un escalar\n",
    "print(\"\\nHacer la multiplicación de un vector por un escalar\")\n",
    "v = np.array([[1-1j], [1-2j]])\n",
    "print(\"El vector es: \")\n",
    "print(v)\n",
    "print(\"El escalar es \")\n",
    "scalar = 3+1j\n",
    "print(scalar)\n",
    "mult_v = v * scalar\n",
    "print(\"La multiplicación de un vector por un escalar da: \")\n",
    "print(mult_v)"
   ]
  },
  {
   "cell_type": "code",
   "execution_count": null,
   "id": "6b11a761-99f4-446d-88f2-67e86c6d0163",
   "metadata": {},
   "outputs": [],
   "source": [
    "# Ejercicio 4: Transpuesta de un vector complejo\n",
    "print(\"\\nEncontrar la transpuesta del vector complejo\")\n",
    "v = np.array([[2-1j], [3+4j]])\n",
    "transpose_v = v.T\n",
    "print(\"El vector es: \")\n",
    "print(v)\n",
    "print(\"La transpuesta del vector complejo da:\")\n",
    "print(transpose_v)"
   ]
  },
  {
   "cell_type": "code",
   "execution_count": null,
   "id": "5156293d-728f-46fd-94d4-d04af89475e8",
   "metadata": {},
   "outputs": [],
   "source": [
    "# Ejercicio 5: Conjugado de un vector complejo\n",
    "print(\"\\nCalcular el conjugado del vector complejo \")\n",
    "v = np.array([[1+1j], [2-3j]])\n",
    "print(\"El vector es: \")\n",
    "print(v)\n",
    "conjugate_v = np.conjugate(v)\n",
    "print(\"El conjugado del vector complejo da:\")\n",
    "print(conjugate_v)"
   ]
  },
  {
   "cell_type": "code",
   "execution_count": null,
   "id": "957b7d95-3c9e-4347-a5ab-da89e3a8b17d",
   "metadata": {},
   "outputs": [],
   "source": [
    "# Ejercicio 6: Adjunta (Transpuesta Conjugada) de un vector complejo\n",
    "print(\"\\nEncuentre la adjunta (o transpuesta conjugada) del vector complejo\")\n",
    "v = np.array([[1-2j], [3+1j]])\n",
    "print(\"El vector es: \")\n",
    "print(v)\n",
    "print(\"La adjunta da: \")\n",
    "adjunct_v = v.T.conj()\n",
    "print(adjunct_v)"
   ]
  },
  {
   "cell_type": "code",
   "execution_count": null,
   "id": "c487cd8e-04ba-4f75-b7b8-216cb90d9f3f",
   "metadata": {},
   "outputs": [],
   "source": [
    "# Ejercicio 7: Suma de dos matrices complejas\n",
    "print(\"\\nHacer la suma de dos matrices\")\n",
    "m1 = np.array([[1+1j, 2-1j],\n",
    "               [3+2j, 4]])\n",
    "m2 = np.array([[2-3j, 1],\n",
    "               [1j, 2+2j]])\n",
    "print(\"La matriz 1 es\")\n",
    "print(m1)\n",
    "print(\"La matriz 2 es\")\n",
    "print(m2)\n",
    "print(\"La suma da:\")\n",
    "sum_m = m1 + m2\n",
    "print(sum_m)"
   ]
  },
  {
   "cell_type": "code",
   "execution_count": null,
   "id": "b38a0676-9e0b-43d1-9ada-09320c89fc9b",
   "metadata": {},
   "outputs": [],
   "source": [
    "# Ejercicio 8: Negación de una matriz compleja\n",
    "print(\"\\nEncuentra la negación de la matriz compleja\")\n",
    "m1 = np.array([[2+2j, 3],\n",
    "               [1-1j, 2+2j]])\n",
    "print(\"La matriz es\")\n",
    "print(m1)\n",
    "print(\"La negación da:\")\n",
    "neg_m1 = -m1\n",
    "print(neg_m1)\n"
   ]
  },
  {
   "cell_type": "code",
   "execution_count": null,
   "id": "953b1102-e98c-4faa-a835-e6c5ff865d47",
   "metadata": {},
   "outputs": [],
   "source": [
    "# Ejercicio 9: Multiplicación de una matriz compleja por un escalar\n",
    "print(\"\\nHacer la multiplicación de una matriz por un escalar\")\n",
    "m1 = np.array([[1-1j, 2],\n",
    "               [3-1j, 4-2j]])\n",
    "print(\"La matriz es: \")\n",
    "print(m1)\n",
    "print(\"El escalar es \")\n",
    "scalar = 2+3j\n",
    "print(scalar)\n",
    "mult_m = m1 * scalar\n",
    "print(\"La multiplicación de una matriz por un escalar da: \")\n",
    "print(mult_m)"
   ]
  },
  {
   "cell_type": "code",
   "execution_count": null,
   "id": "16ddf60f-de1b-4561-80a3-b7a062519497",
   "metadata": {},
   "outputs": [],
   "source": [
    "# Ejercicio 10: Conjugado de una matriz compleja\n",
    "print(\"\\nCalcular el conjugado de la matriz compleja \")\n",
    "m1 = np.array([[1+1j, 2],\n",
    "               [3-1j, 4+2j]])\n",
    "print(\"La matriz es: \")\n",
    "print(m1)\n",
    "conjugate_m1 = np.conjugate(m1)\n",
    "print(\"El conjugado de la matriz compleja da:\")\n",
    "print(conjugate_m1)"
   ]
  },
  {
   "cell_type": "code",
   "execution_count": null,
   "id": "ba8bea58-c183-4356-a0db-010d2925fd05",
   "metadata": {},
   "outputs": [],
   "source": [
    "# Ejercicio 11: Transpuesta de una matriz compleja\n",
    "print(\"\\nEncontrar la transpuesta de la matriz compleja\")\n",
    "m1 = np.array([[1-1j, 2+2j],\n",
    "               [3, 4-1j]])\n",
    "transpose_m1 = m1.T\n",
    "print(\"La matriz es: \")\n",
    "print(m1)\n",
    "print(\"La transpuesta de la matriz compleja da:\")\n",
    "print(transpose_m1)"
   ]
  },
  {
   "cell_type": "code",
   "execution_count": null,
   "id": "90bb54a1-0b13-4491-ab81-a1cf7d0cb036",
   "metadata": {},
   "outputs": [],
   "source": [
    "# Ejercicio 12: Adjunta (Transpuesta Conjugada) de una matriz compleja\n",
    "print(\"\\nEncuentre la adjunta (o transpuesta conjugada) de la matriz compleja\")\n",
    "m1 = np.array([[1+2j, 3-1j],\n",
    "               [4, 5+1j]])\n",
    "print(\"La matriz es es: \")\n",
    "print(m1)\n",
    "print(\"La adjunta da: \")\n",
    "adjunct_m1 = m1.T.conj()\n",
    "print(adjunct_m1)"
   ]
  },
  {
   "cell_type": "code",
   "execution_count": null,
   "id": "6a23b6da-244e-4a75-afab-f399ccff9097",
   "metadata": {},
   "outputs": [],
   "source": [
    "# Ejercicio 13: Verificación de las dimensiones de una matriz\n",
    "print(\"\\nDeterminar las dimensiones de la matriz compleja\")\n",
    "m1 = np.array([[1-1j, 2],\n",
    "               [3+2j, 4-1j]])\n",
    "print(\"La matriz es: \")\n",
    "print(m1)\n",
    "print(\"La dimensión es: \")\n",
    "dim = m1.shape\n",
    "print(dim)"
   ]
  },
  {
   "cell_type": "code",
   "execution_count": null,
   "id": "287c2104-7d05-4ccb-ac7f-e5c0d90c93e8",
   "metadata": {},
   "outputs": [],
   "source": [
    "# Ejercicio 14: Multiplicación de una matriz cuadrada compleja por un vector columna complejo\n",
    "print(\"\\nMultiplicar la matriz cuadrada compleja\")\n",
    "m1 = np.array([[1+1j, 2-1j],\n",
    "               [3, 4+1j]])\n",
    "print(\"La matriz es es: \")\n",
    "print(m1)\n",
    "v = np.array([[2-1j], [1+3j]])\n",
    "print(\"El vector es: \")\n",
    "print(v)\n",
    "print(\"La multiplicación da: \")\n",
    "result = np.dot(m1, v)\n",
    "print(result)"
   ]
  }
 ],
 "metadata": {
  "kernelspec": {
   "display_name": "Python 3 (ipykernel)",
   "language": "python",
   "name": "python3"
  },
  "language_info": {
   "codemirror_mode": {
    "name": "ipython",
    "version": 3
   },
   "file_extension": ".py",
   "mimetype": "text/x-python",
   "name": "python",
   "nbconvert_exporter": "python",
   "pygments_lexer": "ipython3",
   "version": "3.12.0"
  }
 },
 "nbformat": 4,
 "nbformat_minor": 5
}
